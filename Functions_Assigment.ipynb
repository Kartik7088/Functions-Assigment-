{
  "nbformat": 4,
  "nbformat_minor": 0,
  "metadata": {
    "colab": {
      "provenance": []
    },
    "kernelspec": {
      "name": "python3",
      "display_name": "Python 3"
    },
    "language_info": {
      "name": "python"
    }
  },
  "cells": [
    {
      "cell_type": "markdown",
      "source": [
        "#Functions Assigment"
      ],
      "metadata": {
        "id": "8pIqIPCfuyB2"
      }
    },
    {
      "cell_type": "markdown",
      "source": [
        "1. What is a function in Python, and why is it used?\n",
        "\n",
        "A function in Python is a reusable block of code that performs a specific task. It is used to break a program into smaller, manageable parts, improving code readability, reusability, and efficiency.\n",
        "\n",
        "\n",
        "2. Explain the difference between arguments and parameters in functions.\n",
        "\n",
        "Parameters are variables listed inside the function definition.\n",
        "\n",
        "Arguments are values passed to the function when calling it.\n",
        "\n",
        "Example:"
      ],
      "metadata": {
        "id": "suvkAERFw_Nr"
      }
    },
    {
      "cell_type": "code",
      "source": [
        "def greet(name):  # 'name' is a parameter\n",
        "    print(\"Hello, \" + name)\n",
        "\n",
        "greet(\"Kartik\")  # \"Kartik\" is an argument"
      ],
      "metadata": {
        "colab": {
          "base_uri": "https://localhost:8080/"
        },
        "id": "VmzOR7G-u0vD",
        "outputId": "2a3d47b9-48f2-45fe-e529-cc738abf0bf8"
      },
      "execution_count": 1,
      "outputs": [
        {
          "output_type": "stream",
          "name": "stdout",
          "text": [
            "Hello, Kartik\n"
          ]
        }
      ]
    },
    {
      "cell_type": "markdown",
      "source": [
        "3. What is the return statement in Python functions?\n",
        "\n",
        "The return statement is used to return a value from a function. It terminates the function and sends a result back to the caller.\n",
        "\n",
        "Example:"
      ],
      "metadata": {
        "id": "nCplFd7qxWEP"
      }
    },
    {
      "cell_type": "code",
      "source": [
        "def add(a, b):\n",
        "    return a + b\n",
        "\n",
        "result = add(3, 5)\n",
        "print(result)"
      ],
      "metadata": {
        "colab": {
          "base_uri": "https://localhost:8080/"
        },
        "id": "3hpJL5nPxUIC",
        "outputId": "11ae3187-7bd3-42fc-fc86-e7113ab138a0"
      },
      "execution_count": 2,
      "outputs": [
        {
          "output_type": "stream",
          "name": "stdout",
          "text": [
            "8\n"
          ]
        }
      ]
    },
    {
      "cell_type": "markdown",
      "source": [
        "4. Explain the concept of default parameters in Python functions.\n",
        "\n",
        "Default parameters allow setting default values for function parameters. If no argument is provided, the default value is used.\n",
        "\n",
        "Example:"
      ],
      "metadata": {
        "id": "yQFNU5Zqxrtf"
      }
    },
    {
      "cell_type": "code",
      "source": [
        "def greet(name=\"Guest\"):\n",
        "    print(\"Hello, \" + name)\n",
        "\n",
        "greet()\n",
        "greet(\"Kartik\")"
      ],
      "metadata": {
        "colab": {
          "base_uri": "https://localhost:8080/"
        },
        "id": "fFBYDGDzxgDv",
        "outputId": "33b53172-d73c-4733-bbf8-029bff553831"
      },
      "execution_count": 4,
      "outputs": [
        {
          "output_type": "stream",
          "name": "stdout",
          "text": [
            "Hello, Guest\n",
            "Hello, Kartik\n"
          ]
        }
      ]
    },
    {
      "cell_type": "markdown",
      "source": [
        "5. What are keyword arguments in Python?\n",
        "\n",
        "Keyword arguments allow passing arguments to a function using parameter names, making the function call more readable.\n",
        "\n",
        "Example:"
      ],
      "metadata": {
        "id": "wrxeON2Ex2aA"
      }
    },
    {
      "cell_type": "code",
      "source": [
        "def display_info(name, age):\n",
        "    print(f\"Name: {name}, Age: {age}\")\n",
        "\n",
        "display_info(age=23, name=\"Kartik\")"
      ],
      "metadata": {
        "colab": {
          "base_uri": "https://localhost:8080/"
        },
        "id": "qDs2oFKdxptf",
        "outputId": "9e07fe59-e5bb-4ffa-f160-781e116f4a0a"
      },
      "execution_count": 5,
      "outputs": [
        {
          "output_type": "stream",
          "name": "stdout",
          "text": [
            "Name: Kartik, Age: 23\n"
          ]
        }
      ]
    },
    {
      "cell_type": "markdown",
      "source": [
        "6. What is the difference between *args and kwargs in Python?\n",
        "\n",
        "*args allows passing a variable number of positional arguments.\n",
        "\n",
        "**kwargs allows passing a variable number of keyword arguments.\n",
        "\n",
        "Example:"
      ],
      "metadata": {
        "id": "48VlhTq7x_Fj"
      }
    },
    {
      "cell_type": "code",
      "source": [
        "def example_function(*args, **kwargs):\n",
        "    print(\"Positional arguments:\", args)\n",
        "    print(\"Keyword arguments:\", kwargs)\n",
        "\n",
        "example_function(1, 2, 3, name=\"Kartik\", age=23)"
      ],
      "metadata": {
        "colab": {
          "base_uri": "https://localhost:8080/"
        },
        "id": "IZWXgemzx7TC",
        "outputId": "d9ce7dc2-a277-4210-9d0a-3067673eb55d"
      },
      "execution_count": 6,
      "outputs": [
        {
          "output_type": "stream",
          "name": "stdout",
          "text": [
            "Positional arguments: (1, 2, 3)\n",
            "Keyword arguments: {'name': 'Kartik', 'age': 23}\n"
          ]
        }
      ]
    },
    {
      "cell_type": "markdown",
      "source": [
        "7. What is recursion in Python? Provide an example.\n",
        "\n",
        "Recursion is when a function calls itself to solve a problem. It requires a base case to prevent infinite loops.\n",
        "\n",
        "Example: Factorial calculation"
      ],
      "metadata": {
        "id": "YRpujPMFyJvb"
      }
    },
    {
      "cell_type": "code",
      "source": [
        "def factorial(n):\n",
        "    if n == 1:\n",
        "        return 1\n",
        "    return n * factorial(n - 1)\n",
        "\n",
        "print(factorial(5))"
      ],
      "metadata": {
        "colab": {
          "base_uri": "https://localhost:8080/"
        },
        "id": "FNCTQ-Q5yFiD",
        "outputId": "84c412ac-9d76-4f9b-ffad-ecde6a2fc086"
      },
      "execution_count": 7,
      "outputs": [
        {
          "output_type": "stream",
          "name": "stdout",
          "text": [
            "120\n"
          ]
        }
      ]
    },
    {
      "cell_type": "markdown",
      "source": [
        "8. Explain lambda functions with an example.\n",
        "\n",
        "A lambda function is an anonymous function defined using the lambda keyword.\n",
        "\n",
        "Example:"
      ],
      "metadata": {
        "id": "eh7jDwyRyUwq"
      }
    },
    {
      "cell_type": "code",
      "source": [
        "square = lambda x: x ** 2\n",
        "print(square(4))  # Output: 16"
      ],
      "metadata": {
        "colab": {
          "base_uri": "https://localhost:8080/"
        },
        "id": "G4hJQBzWyPYU",
        "outputId": "1818f14c-bcab-484d-80db-705050b2dbff"
      },
      "execution_count": 8,
      "outputs": [
        {
          "output_type": "stream",
          "name": "stdout",
          "text": [
            "16\n"
          ]
        }
      ]
    },
    {
      "cell_type": "markdown",
      "source": [
        "9. What are higher-order functions?\n",
        "\n",
        "A higher-order function takes another function as an argument or returns a function.\n",
        "\n",
        "Example: Using map()"
      ],
      "metadata": {
        "id": "Oka9qN_oybw0"
      }
    },
    {
      "cell_type": "code",
      "source": [
        "def square(x):\n",
        "    return x ** 2\n",
        "\n",
        "numbers = [1, 2, 3, 4]\n",
        "squared_numbers = list(map(square, numbers))\n",
        "print(squared_numbers)  # Output: [1, 4, 9, 16]"
      ],
      "metadata": {
        "colab": {
          "base_uri": "https://localhost:8080/"
        },
        "id": "oWYUO3O3yZFN",
        "outputId": "5ae65e9f-0689-435a-8ecd-575e8178b950"
      },
      "execution_count": 9,
      "outputs": [
        {
          "output_type": "stream",
          "name": "stdout",
          "text": [
            "[1, 4, 9, 16]\n"
          ]
        }
      ]
    },
    {
      "cell_type": "markdown",
      "source": [
        "10. How do the map() and filter() functions work in Python?\n",
        "\n",
        "map(function, iterable): Applies a function to all elements of an iterable.\n",
        "\n",
        "filter(function, iterable): Filters elements that satisfy a condition.\n",
        "\n",
        "Example:"
      ],
      "metadata": {
        "id": "q_bIiM4EyikH"
      }
    },
    {
      "cell_type": "code",
      "source": [
        "numbers = [1, 2, 3, 4, 5]\n",
        "squared = list(map(lambda x: x**2, numbers))\n",
        "print(squared)\n",
        "\n",
        "even_numbers = list(filter(lambda x: x % 2 == 0, numbers))\n",
        "print(even_numbers)"
      ],
      "metadata": {
        "colab": {
          "base_uri": "https://localhost:8080/"
        },
        "id": "qeVMepazyfy3",
        "outputId": "4a937ced-458f-4854-a0de-0b01fbe10ffa"
      },
      "execution_count": 11,
      "outputs": [
        {
          "output_type": "stream",
          "name": "stdout",
          "text": [
            "[1, 4, 9, 16, 25]\n",
            "[2, 4]\n"
          ]
        }
      ]
    },
    {
      "cell_type": "code",
      "source": [
        "\n",
        "\n"
      ],
      "metadata": {
        "id": "4gRM7yqjymKc"
      },
      "execution_count": 11,
      "outputs": []
    },
    {
      "cell_type": "code",
      "source": [
        "# 1. Define a function to add two numbers\n",
        "\n",
        "def add_numbers(a, b):\n",
        "    return a + b\n",
        "\n",
        "print(add_numbers(5, 10))"
      ],
      "metadata": {
        "colab": {
          "base_uri": "https://localhost:8080/"
        },
        "id": "d8utVDCnyudC",
        "outputId": "e43db27f-5b36-4ad3-faf5-c316d1497b3f"
      },
      "execution_count": 12,
      "outputs": [
        {
          "output_type": "stream",
          "name": "stdout",
          "text": [
            "15\n"
          ]
        }
      ]
    },
    {
      "cell_type": "code",
      "source": [
        "# 2. Write a function to find the square of a number\n",
        "\n",
        "def square(n):\n",
        "    return n ** 2\n",
        "\n",
        "print(square(4))"
      ],
      "metadata": {
        "colab": {
          "base_uri": "https://localhost:8080/"
        },
        "id": "XV--Xas9yy0z",
        "outputId": "6f02a589-51b8-4bb4-97f8-34bb9fdd971e"
      },
      "execution_count": 13,
      "outputs": [
        {
          "output_type": "stream",
          "name": "stdout",
          "text": [
            "16\n"
          ]
        }
      ]
    },
    {
      "cell_type": "code",
      "source": [
        "# 3. Use lambda function to calculate cube of a number\n",
        "\n",
        "cube = lambda x: x ** 3\n",
        "print(cube(3))"
      ],
      "metadata": {
        "colab": {
          "base_uri": "https://localhost:8080/"
        },
        "id": "ZSHxmdr0y1CV",
        "outputId": "2484609a-a498-468f-9952-7175502df00f"
      },
      "execution_count": 14,
      "outputs": [
        {
          "output_type": "stream",
          "name": "stdout",
          "text": [
            "27\n"
          ]
        }
      ]
    },
    {
      "cell_type": "code",
      "source": [
        "# 4. Implement a function that returns even numbers from a list\n",
        "\n",
        "def get_even_numbers(lst):\n",
        "    return list(filter(lambda x: x % 2 == 0, lst))\n",
        "\n",
        "print(get_even_numbers([1, 2, 3, 4, 5, 6]))"
      ],
      "metadata": {
        "colab": {
          "base_uri": "https://localhost:8080/"
        },
        "id": "hBsDhaJ0y3O1",
        "outputId": "f8f8059e-d15d-4ebf-b0bd-2899fa2e41c3"
      },
      "execution_count": 16,
      "outputs": [
        {
          "output_type": "stream",
          "name": "stdout",
          "text": [
            "[2, 4, 6]\n"
          ]
        }
      ]
    },
    {
      "cell_type": "code",
      "source": [
        "# 5. Write a recursive function to compute factorial\n",
        "\n",
        "def factorial(n):\n",
        "    if n == 1:\n",
        "        return 1\n",
        "    return n * factorial(n - 1)\n",
        "\n",
        "print(factorial(5))"
      ],
      "metadata": {
        "colab": {
          "base_uri": "https://localhost:8080/"
        },
        "id": "erWj4oJwy7iu",
        "outputId": "b1e376b3-37d1-4ae4-c504-4c0e79c78eea"
      },
      "execution_count": 17,
      "outputs": [
        {
          "output_type": "stream",
          "name": "stdout",
          "text": [
            "120\n"
          ]
        }
      ]
    },
    {
      "cell_type": "code",
      "source": [
        "# 6. Implement a function that reverses a string\n",
        "\n",
        "def reverse_string(s):\n",
        "    return s[::-1]\n",
        "\n",
        "print(reverse_string(\"hello\"))"
      ],
      "metadata": {
        "colab": {
          "base_uri": "https://localhost:8080/"
        },
        "id": "8-FYPjz4zDOA",
        "outputId": "29146ac9-b5a3-4189-8412-c38a5a304054"
      },
      "execution_count": 18,
      "outputs": [
        {
          "output_type": "stream",
          "name": "stdout",
          "text": [
            "olleh\n"
          ]
        }
      ]
    },
    {
      "cell_type": "code",
      "source": [
        "# 7. Function to check if a number is prime\n",
        "\n",
        "def is_prime(n):\n",
        "    if n < 2:\n",
        "        return False\n",
        "    for i in range(2, int(n ** 0.5) + 1):\n",
        "        if n % i == 0:\n",
        "            return False\n",
        "    return True\n",
        "\n",
        "print(is_prime(7))"
      ],
      "metadata": {
        "colab": {
          "base_uri": "https://localhost:8080/"
        },
        "id": "w4vKEspPzF6U",
        "outputId": "588c5494-e070-46e2-ee31-9ec149bc9de1"
      },
      "execution_count": 19,
      "outputs": [
        {
          "output_type": "stream",
          "name": "stdout",
          "text": [
            "True\n"
          ]
        }
      ]
    },
    {
      "cell_type": "code",
      "source": [
        "# 8. Use map() to double values in a list\n",
        "\n",
        "numbers = [1, 2, 3, 4]\n",
        "doubled = list(map(lambda x: x * 2, numbers))\n",
        "print(doubled)\n"
      ],
      "metadata": {
        "colab": {
          "base_uri": "https://localhost:8080/"
        },
        "id": "xDfSeKcyzJEr",
        "outputId": "f34b6cd1-cadd-4a0d-a14c-107b5a30fc4b"
      },
      "execution_count": 20,
      "outputs": [
        {
          "output_type": "stream",
          "name": "stdout",
          "text": [
            "[2, 4, 6, 8]\n"
          ]
        }
      ]
    },
    {
      "cell_type": "code",
      "source": [
        "# 9. Implement a function that returns the largest of three numbers\n",
        "\n",
        "def max_of_three(a, b, c):\n",
        "    return max(a, b, c)\n",
        "\n",
        "print(max_of_three(3, 7, 5))"
      ],
      "metadata": {
        "colab": {
          "base_uri": "https://localhost:8080/"
        },
        "id": "ucFZvhlRzLIt",
        "outputId": "cc7bc016-d72a-429b-8586-d9f60f660bb1"
      },
      "execution_count": 21,
      "outputs": [
        {
          "output_type": "stream",
          "name": "stdout",
          "text": [
            "7\n"
          ]
        }
      ]
    },
    {
      "cell_type": "code",
      "source": [
        "# 10. Implement a function using **kwargs to display information\n",
        "\n",
        "def display_info(**kwargs):\n",
        "    for key, value in kwargs.items():\n",
        "        print(f\"{key}: {value}\")\n",
        "\n",
        "display_info(name=\"Kartik\", age=23, city=\"Meerut\")"
      ],
      "metadata": {
        "colab": {
          "base_uri": "https://localhost:8080/"
        },
        "id": "pNI2OuXczNhr",
        "outputId": "f00544f5-ff0f-4ce5-c432-acfd18db30c0"
      },
      "execution_count": 22,
      "outputs": [
        {
          "output_type": "stream",
          "name": "stdout",
          "text": [
            "name: Kartik\n",
            "age: 23\n",
            "city: Meerut\n"
          ]
        }
      ]
    },
    {
      "cell_type": "code",
      "source": [],
      "metadata": {
        "id": "Gl_Havp-zPvR"
      },
      "execution_count": null,
      "outputs": []
    }
  ]
}